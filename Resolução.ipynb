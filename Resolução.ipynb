{
 "cells": [
  {
   "cell_type": "code",
   "execution_count": 139,
   "metadata": {},
   "outputs": [],
   "source": [
    "# Instalação das bibliotecas não nativas\n",
    "!pip install requests --quiet\n",
    "!pip install beautifulsoup4 --quiet\n",
    "!pip install pandas --quiet\n",
    "!pip install matplotlib --quiet\n",
    "!pip install ipython --quiet"
   ]
  },
  {
   "cell_type": "code",
   "execution_count": 140,
   "metadata": {},
   "outputs": [],
   "source": [
    "# Importação das bibliotecas\n",
    "import requests\n",
    "from bs4 import BeautifulSoup\n",
    "import pandas as pd\n",
    "import matplotlib.pyplot as plt\n",
    "from IPython.core.display import Markdown"
   ]
  },
  {
   "cell_type": "markdown",
   "metadata": {},
   "source": [
    "<h1 style=\"color:lightblue\">Questão 1:</h1>"
   ]
  },
  {
   "cell_type": "code",
   "execution_count": 141,
   "metadata": {},
   "outputs": [
    {
     "data": {
      "text/html": [
       "<div>\n",
       "<style scoped>\n",
       "    .dataframe tbody tr th:only-of-type {\n",
       "        vertical-align: middle;\n",
       "    }\n",
       "\n",
       "    .dataframe tbody tr th {\n",
       "        vertical-align: top;\n",
       "    }\n",
       "\n",
       "    .dataframe thead th {\n",
       "        text-align: right;\n",
       "    }\n",
       "</style>\n",
       "<table border=\"1\" class=\"dataframe\">\n",
       "  <thead>\n",
       "    <tr style=\"text-align: right;\">\n",
       "      <th></th>\n",
       "      <th>Título</th>\n",
       "      <th>Up Votes</th>\n",
       "      <th>Link</th>\n",
       "    </tr>\n",
       "  </thead>\n",
       "  <tbody>\n",
       "    <tr>\n",
       "      <th>0</th>\n",
       "      <td>Why has /r/programming been flagged as unsafe?</td>\n",
       "      <td>138</td>\n",
       "      <td>https://transparencyreport.google.com/safe-bro...</td>\n",
       "    </tr>\n",
       "    <tr>\n",
       "      <th>1</th>\n",
       "      <td>Exploring the internals of Linux v0.01</td>\n",
       "      <td>214</td>\n",
       "      <td>https://seiya.me/blog/reading-linux-v0.01</td>\n",
       "    </tr>\n",
       "    <tr>\n",
       "      <th>2</th>\n",
       "      <td>Dolphin Emulator Progress Report: May, June, a...</td>\n",
       "      <td>43</td>\n",
       "      <td>https://dolphin-emu.org/blog/2023/08/13/dolphi...</td>\n",
       "    </tr>\n",
       "  </tbody>\n",
       "</table>\n",
       "</div>"
      ],
      "text/plain": [
       "                                              Título Up Votes  \\\n",
       "0     Why has /r/programming been flagged as unsafe?      138   \n",
       "1             Exploring the internals of Linux v0.01      214   \n",
       "2  Dolphin Emulator Progress Report: May, June, a...       43   \n",
       "\n",
       "                                                Link  \n",
       "0  https://transparencyreport.google.com/safe-bro...  \n",
       "1          https://seiya.me/blog/reading-linux-v0.01  \n",
       "2  https://dolphin-emu.org/blog/2023/08/13/dolphi...  "
      ]
     },
     "execution_count": 141,
     "metadata": {},
     "output_type": "execute_result"
    }
   ],
   "source": [
    "url = 'https://www.reddit.com/r/programming/'\n",
    "headers = {'user-agent': 'Mozilla/5.0'}\n",
    "response = requests.get(url=url, headers=headers)\n",
    "\n",
    "html_content = response.text\n",
    "soup = BeautifulSoup(html_content, 'html.parser')\n",
    "\n",
    "post_div = soup.find_all('shreddit-post', {'subreddit-prefixed-name': \"r/programming\"})\n",
    "post_data_list = []\n",
    "\n",
    "for i in range(3):\n",
    "    title_element = post_div[i].get('post-title')\n",
    "    up_votes_element = post_div[i].get('score')\n",
    "    link_element = post_div[i].get('content-href')\n",
    "\n",
    "    post_dict = {\n",
    "        'Título': title_element,\n",
    "        'Up Votes': up_votes_element if up_votes_element != None else 0,\n",
    "        'Link': link_element\n",
    "    }\n",
    "\n",
    "    post_data_list.append(post_dict)\n",
    "    \n",
    "reddit_df = pd.DataFrame(post_data_list)\n",
    "reddit_df.to_csv('Graficos&Dados/dados_reddit.csv')\n",
    "reddit_df"
   ]
  },
  {
   "cell_type": "markdown",
   "metadata": {},
   "source": [
    "<h1 style=\"color:lightblue\">Questão 2:</h1>"
   ]
  },
  {
   "cell_type": "code",
   "execution_count": 142,
   "metadata": {},
   "outputs": [
    {
     "data": {
      "text/html": [
       "<div>\n",
       "<style scoped>\n",
       "    .dataframe tbody tr th:only-of-type {\n",
       "        vertical-align: middle;\n",
       "    }\n",
       "\n",
       "    .dataframe tbody tr th {\n",
       "        vertical-align: top;\n",
       "    }\n",
       "\n",
       "    .dataframe thead th {\n",
       "        text-align: right;\n",
       "    }\n",
       "</style>\n",
       "<table border=\"1\" class=\"dataframe\">\n",
       "  <thead>\n",
       "    <tr style=\"text-align: right;\">\n",
       "      <th></th>\n",
       "      <th>Média das Avaliações</th>\n",
       "      <th>Melhor Filme</th>\n",
       "      <th>Ano do pior Flme</th>\n",
       "    </tr>\n",
       "  </thead>\n",
       "  <tbody>\n",
       "    <tr>\n",
       "      <th>0</th>\n",
       "      <td>8.9</td>\n",
       "      <td>Matrix</td>\n",
       "      <td>2014</td>\n",
       "    </tr>\n",
       "  </tbody>\n",
       "</table>\n",
       "</div>"
      ],
      "text/plain": [
       "   Média das Avaliações Melhor Filme  Ano do pior Flme\n",
       "0                   8.9       Matrix              2014"
      ]
     },
     "execution_count": 142,
     "metadata": {},
     "output_type": "execute_result"
    }
   ],
   "source": [
    "filmes = [\n",
    "{\"titulo\": \"O Senhor dos Anéis\", \"ano\": 2001, \"avaliacao\": 8.8},\n",
    "{\"titulo\": \"Matrix\", \"ano\": 1999, \"avaliacao\": 9.3},\n",
    "{\"titulo\": \"Interestelar\", \"ano\": 2014, \"avaliacao\": 8.6}\n",
    "]\n",
    "\n",
    "movies_df = pd.DataFrame(filmes)\n",
    "\n",
    "average_rating = movies_df['avaliacao'].mean()\n",
    "best_movie = movies_df.loc[movies_df['avaliacao'] == movies_df['avaliacao'].max(), 'titulo'].values[0]\n",
    "worst_movie_year = movies_df.loc[movies_df['avaliacao'] == movies_df['avaliacao'].min(), 'ano'].values[0]\n",
    "\n",
    "movies_analysis_df = pd.DataFrame({\n",
    "    'Média das Avaliações': [average_rating],\n",
    "    'Melhor Filme': [best_movie],\n",
    "    'Ano do pior Flme': [worst_movie_year]\n",
    "})\n",
    "\n",
    "movies_analysis_df"
   ]
  },
  {
   "cell_type": "markdown",
   "metadata": {},
   "source": [
    "<h1 style=\"color:lightblue\">Questão 3:</h1>"
   ]
  },
  {
   "cell_type": "code",
   "execution_count": 143,
   "metadata": {},
   "outputs": [],
   "source": [
    "def convertToCurrency(value):\n",
    "    return \"R$ {:,.2f}\".format(value).replace(\".\", \",\")"
   ]
  },
  {
   "cell_type": "code",
   "execution_count": 144,
   "metadata": {},
   "outputs": [
    {
     "data": {
      "text/markdown": [
       "### Demonstração das primeiras linhas do conjunto de dados:"
      ],
      "text/plain": [
       "<IPython.core.display.Markdown object>"
      ]
     },
     "metadata": {},
     "output_type": "display_data"
    },
    {
     "data": {
      "text/html": [
       "<div>\n",
       "<style scoped>\n",
       "    .dataframe tbody tr th:only-of-type {\n",
       "        vertical-align: middle;\n",
       "    }\n",
       "\n",
       "    .dataframe tbody tr th {\n",
       "        vertical-align: top;\n",
       "    }\n",
       "\n",
       "    .dataframe thead th {\n",
       "        text-align: right;\n",
       "    }\n",
       "</style>\n",
       "<table border=\"1\" class=\"dataframe\">\n",
       "  <thead>\n",
       "    <tr style=\"text-align: right;\">\n",
       "      <th></th>\n",
       "      <th>Login</th>\n",
       "      <th>Idade</th>\n",
       "      <th>Sexo</th>\n",
       "      <th>Item ID</th>\n",
       "      <th>Nome do Item</th>\n",
       "      <th>Valor</th>\n",
       "    </tr>\n",
       "  </thead>\n",
       "  <tbody>\n",
       "    <tr>\n",
       "      <th>0</th>\n",
       "      <td>Aelalis34</td>\n",
       "      <td>38</td>\n",
       "      <td>Masculino</td>\n",
       "      <td>165</td>\n",
       "      <td>Bone Crushing Silver Skewer</td>\n",
       "      <td>3.37</td>\n",
       "    </tr>\n",
       "    <tr>\n",
       "      <th>1</th>\n",
       "      <td>Eolo46</td>\n",
       "      <td>21</td>\n",
       "      <td>Masculino</td>\n",
       "      <td>119</td>\n",
       "      <td>Stormbringer, Dark Blade of Ending Misery</td>\n",
       "      <td>2.32</td>\n",
       "    </tr>\n",
       "    <tr>\n",
       "      <th>2</th>\n",
       "      <td>Assastnya25</td>\n",
       "      <td>34</td>\n",
       "      <td>Masculino</td>\n",
       "      <td>174</td>\n",
       "      <td>Primitive Blade</td>\n",
       "      <td>2.46</td>\n",
       "    </tr>\n",
       "    <tr>\n",
       "      <th>3</th>\n",
       "      <td>Pheusrical25</td>\n",
       "      <td>21</td>\n",
       "      <td>Masculino</td>\n",
       "      <td>92</td>\n",
       "      <td>Final Critic</td>\n",
       "      <td>1.36</td>\n",
       "    </tr>\n",
       "    <tr>\n",
       "      <th>4</th>\n",
       "      <td>Aela59</td>\n",
       "      <td>23</td>\n",
       "      <td>Masculino</td>\n",
       "      <td>63</td>\n",
       "      <td>Stormfury Mace</td>\n",
       "      <td>1.27</td>\n",
       "    </tr>\n",
       "  </tbody>\n",
       "</table>\n",
       "</div>"
      ],
      "text/plain": [
       "          Login  Idade       Sexo  Item ID  \\\n",
       "0     Aelalis34     38  Masculino      165   \n",
       "1        Eolo46     21  Masculino      119   \n",
       "2   Assastnya25     34  Masculino      174   \n",
       "3  Pheusrical25     21  Masculino       92   \n",
       "4        Aela59     23  Masculino       63   \n",
       "\n",
       "                                Nome do Item  Valor  \n",
       "0                Bone Crushing Silver Skewer   3.37  \n",
       "1  Stormbringer, Dark Blade of Ending Misery   2.32  \n",
       "2                            Primitive Blade   2.46  \n",
       "3                               Final Critic   1.36  \n",
       "4                             Stormfury Mace   1.27  "
      ]
     },
     "metadata": {},
     "output_type": "display_data"
    },
    {
     "data": {
      "text/markdown": [
       "### Verificação de dados vazios nas colunas:"
      ],
      "text/plain": [
       "<IPython.core.display.Markdown object>"
      ]
     },
     "metadata": {},
     "output_type": "display_data"
    },
    {
     "data": {
      "text/plain": [
       "Login           0\n",
       "Idade           0\n",
       "Sexo            0\n",
       "Item ID         0\n",
       "Nome do Item    0\n",
       "Valor           0\n",
       "dtype: int64"
      ]
     },
     "metadata": {},
     "output_type": "display_data"
    },
    {
     "data": {
      "text/markdown": [
       "### Análise Geral:"
      ],
      "text/plain": [
       "<IPython.core.display.Markdown object>"
      ]
     },
     "metadata": {},
     "output_type": "display_data"
    },
    {
     "data": {
      "text/html": [
       "<div>\n",
       "<style scoped>\n",
       "    .dataframe tbody tr th:only-of-type {\n",
       "        vertical-align: middle;\n",
       "    }\n",
       "\n",
       "    .dataframe tbody tr th {\n",
       "        vertical-align: top;\n",
       "    }\n",
       "\n",
       "    .dataframe thead th {\n",
       "        text-align: right;\n",
       "    }\n",
       "</style>\n",
       "<table border=\"1\" class=\"dataframe\">\n",
       "  <thead>\n",
       "    <tr style=\"text-align: right;\">\n",
       "      <th></th>\n",
       "      <th>Quantidade total de Compras</th>\n",
       "      <th>Valor Total em compras</th>\n",
       "      <th>Média de valor por venda</th>\n",
       "    </tr>\n",
       "  </thead>\n",
       "  <tbody>\n",
       "    <tr>\n",
       "      <th>0</th>\n",
       "      <td>780</td>\n",
       "      <td>R$ 2,286,33</td>\n",
       "      <td>R$ 2,93</td>\n",
       "    </tr>\n",
       "  </tbody>\n",
       "</table>\n",
       "</div>"
      ],
      "text/plain": [
       "   Quantidade total de Compras Valor Total em compras Média de valor por venda\n",
       "0                          780            R$ 2,286,33                  R$ 2,93"
      ]
     },
     "metadata": {},
     "output_type": "display_data"
    }
   ],
   "source": [
    "# Exploração dos dados\n",
    "\n",
    "purchase_df = pd.read_json('dados_compras.json')\n",
    "\n",
    "purchase_quantity = purchase_df['Valor'].count()\n",
    "total_value = purchase_df['Valor'].sum()\n",
    "product_quantity = len(purchase_df[\"Item ID\"].unique())\n",
    "\n",
    "values_calculations_df = pd.DataFrame(\n",
    "    {   \n",
    "        'Quantidade total de Compras': [purchase_quantity],\n",
    "        'Valor Total em compras': [convertToCurrency(total_value)],\n",
    "        'Média de valor por venda': [convertToCurrency(total_value / purchase_quantity)]\n",
    "    }\n",
    ")\n",
    "\n",
    "display(\n",
    "    Markdown('### Demonstração das primeiras linhas do conjunto de dados:'),\n",
    "    purchase_df.head(),\n",
    "    Markdown('### Verificação de dados vazios nas colunas:'),\n",
    "    purchase_df.isna().sum(),\n",
    "    Markdown('### Análise Geral:'),\n",
    "    values_calculations_df\n",
    ")"
   ]
  },
  {
   "cell_type": "code",
   "execution_count": 145,
   "metadata": {},
   "outputs": [
    {
     "data": {
      "text/markdown": [
       "### Cálculos básicos:"
      ],
      "text/plain": [
       "<IPython.core.display.Markdown object>"
      ]
     },
     "metadata": {},
     "output_type": "display_data"
    },
    {
     "data": {
      "text/html": [
       "<div>\n",
       "<style scoped>\n",
       "    .dataframe tbody tr th:only-of-type {\n",
       "        vertical-align: middle;\n",
       "    }\n",
       "\n",
       "    .dataframe tbody tr th {\n",
       "        vertical-align: top;\n",
       "    }\n",
       "\n",
       "    .dataframe thead th {\n",
       "        text-align: right;\n",
       "    }\n",
       "</style>\n",
       "<table border=\"1\" class=\"dataframe\">\n",
       "  <thead>\n",
       "    <tr style=\"text-align: right;\">\n",
       "      <th></th>\n",
       "      <th>Média</th>\n",
       "      <th>Mínimo</th>\n",
       "      <th>Máximo</th>\n",
       "      <th>Mediana</th>\n",
       "    </tr>\n",
       "  </thead>\n",
       "  <tbody>\n",
       "    <tr>\n",
       "      <th>0</th>\n",
       "      <td>R$ 2,93</td>\n",
       "      <td>R$ 1,03</td>\n",
       "      <td>R$ 4,95</td>\n",
       "      <td>R$ 2,88</td>\n",
       "    </tr>\n",
       "  </tbody>\n",
       "</table>\n",
       "</div>"
      ],
      "text/plain": [
       "     Média   Mínimo   Máximo  Mediana\n",
       "0  R$ 2,93  R$ 1,03  R$ 4,95  R$ 2,88"
      ]
     },
     "metadata": {},
     "output_type": "display_data"
    },
    {
     "data": {
      "text/markdown": [
       "### Produto mais caro:"
      ],
      "text/plain": [
       "<IPython.core.display.Markdown object>"
      ]
     },
     "metadata": {},
     "output_type": "display_data"
    },
    {
     "data": {
      "text/html": [
       "<div>\n",
       "<style scoped>\n",
       "    .dataframe tbody tr th:only-of-type {\n",
       "        vertical-align: middle;\n",
       "    }\n",
       "\n",
       "    .dataframe tbody tr th {\n",
       "        vertical-align: top;\n",
       "    }\n",
       "\n",
       "    .dataframe thead th {\n",
       "        text-align: right;\n",
       "    }\n",
       "</style>\n",
       "<table border=\"1\" class=\"dataframe\">\n",
       "  <thead>\n",
       "    <tr style=\"text-align: right;\">\n",
       "      <th></th>\n",
       "      <th>Nome do Item</th>\n",
       "      <th>Vendas</th>\n",
       "      <th>Valor</th>\n",
       "      <th>Faturamento</th>\n",
       "    </tr>\n",
       "  </thead>\n",
       "  <tbody>\n",
       "    <tr>\n",
       "      <th>0</th>\n",
       "      <td>Orenmir</td>\n",
       "      <td>6</td>\n",
       "      <td>R$ 4,95</td>\n",
       "      <td>R$ 29,70</td>\n",
       "    </tr>\n",
       "  </tbody>\n",
       "</table>\n",
       "</div>"
      ],
      "text/plain": [
       "  Nome do Item  Vendas    Valor Faturamento\n",
       "0      Orenmir       6  R$ 4,95    R$ 29,70"
      ]
     },
     "metadata": {},
     "output_type": "display_data"
    },
    {
     "data": {
      "text/markdown": [
       "### Produtos mais baratos:"
      ],
      "text/plain": [
       "<IPython.core.display.Markdown object>"
      ]
     },
     "metadata": {},
     "output_type": "display_data"
    },
    {
     "data": {
      "text/html": [
       "<div>\n",
       "<style scoped>\n",
       "    .dataframe tbody tr th:only-of-type {\n",
       "        vertical-align: middle;\n",
       "    }\n",
       "\n",
       "    .dataframe tbody tr th {\n",
       "        vertical-align: top;\n",
       "    }\n",
       "\n",
       "    .dataframe thead th {\n",
       "        text-align: right;\n",
       "    }\n",
       "</style>\n",
       "<table border=\"1\" class=\"dataframe\">\n",
       "  <thead>\n",
       "    <tr style=\"text-align: right;\">\n",
       "      <th></th>\n",
       "      <th>Nome do Item</th>\n",
       "      <th>Vendas</th>\n",
       "      <th>Valor</th>\n",
       "      <th>Faturamento</th>\n",
       "    </tr>\n",
       "  </thead>\n",
       "  <tbody>\n",
       "    <tr>\n",
       "      <th>0</th>\n",
       "      <td>Hero Cane</td>\n",
       "      <td>4</td>\n",
       "      <td>R$ 1,03</td>\n",
       "      <td>R$ 4,12</td>\n",
       "    </tr>\n",
       "    <tr>\n",
       "      <th>1</th>\n",
       "      <td>Singed Onyx Warscythe</td>\n",
       "      <td>5</td>\n",
       "      <td>R$ 1,03</td>\n",
       "      <td>R$ 5,15</td>\n",
       "    </tr>\n",
       "    <tr>\n",
       "      <th>2</th>\n",
       "      <td>Soul Infused Crystal</td>\n",
       "      <td>6</td>\n",
       "      <td>R$ 1,03</td>\n",
       "      <td>R$ 6,18</td>\n",
       "    </tr>\n",
       "  </tbody>\n",
       "</table>\n",
       "</div>"
      ],
      "text/plain": [
       "            Nome do Item  Vendas    Valor Faturamento\n",
       "0              Hero Cane       4  R$ 1,03     R$ 4,12\n",
       "1  Singed Onyx Warscythe       5  R$ 1,03     R$ 5,15\n",
       "2   Soul Infused Crystal       6  R$ 1,03     R$ 6,18"
      ]
     },
     "metadata": {},
     "output_type": "display_data"
    }
   ],
   "source": [
    "# Análise de Compras\n",
    "\n",
    "function_results = purchase_df['Valor'].agg(['mean', 'min', 'max','median']) # Calcula a média, o mínimo e o máximo pago em compras\n",
    "\n",
    "basic_calculations_df = pd.DataFrame({\n",
    "    'Média': [convertToCurrency(function_results[0])],\n",
    "    'Mínimo': [convertToCurrency(function_results[1])],\n",
    "    'Máximo': [convertToCurrency(function_results[2])],\n",
    "    'Mediana': [convertToCurrency(function_results[3])]\n",
    "})\n",
    "\n",
    "expensiver_product = purchase_df.loc[purchase_df['Valor'] == function_results[2]]\n",
    "expensiver_product_df = expensiver_product.groupby('Nome do Item').size().reset_index(name='Vendas')\n",
    "expensiver_product_df['Valor'] = convertToCurrency(function_results[2])\n",
    "expensiver_product_df['Faturamento'] = (expensiver_product_df['Vendas'] * function_results[2]).apply(convertToCurrency)\n",
    "\n",
    "cheaper_product = purchase_df.loc[purchase_df['Valor'] == function_results[1]]\n",
    "cheaper_product_df = cheaper_product.groupby('Nome do Item').size().reset_index(name='Vendas')\n",
    "cheaper_product_df['Valor'] = convertToCurrency(function_results[1])\n",
    "cheaper_product_df['Faturamento'] = (cheaper_product_df['Vendas'] * function_results[1]).apply(convertToCurrency)\n",
    "\n",
    "display(\n",
    "    Markdown('### Cálculos básicos:'),\n",
    "    basic_calculations_df,\n",
    "    Markdown('### Produto mais caro:'),\n",
    "    expensiver_product_df,\n",
    "    Markdown('### Produtos mais baratos:'),\n",
    "    cheaper_product_df\n",
    ")"
   ]
  },
  {
   "cell_type": "code",
   "execution_count": 156,
   "metadata": {},
   "outputs": [
    {
     "data": {
      "text/markdown": [
       "### Compras feitas por gênero"
      ],
      "text/plain": [
       "<IPython.core.display.Markdown object>"
      ]
     },
     "metadata": {},
     "output_type": "display_data"
    },
    {
     "data": {
      "text/html": [
       "<div>\n",
       "<style scoped>\n",
       "    .dataframe tbody tr th:only-of-type {\n",
       "        vertical-align: middle;\n",
       "    }\n",
       "\n",
       "    .dataframe tbody tr th {\n",
       "        vertical-align: top;\n",
       "    }\n",
       "\n",
       "    .dataframe thead th {\n",
       "        text-align: right;\n",
       "    }\n",
       "</style>\n",
       "<table border=\"1\" class=\"dataframe\">\n",
       "  <thead>\n",
       "    <tr style=\"text-align: right;\">\n",
       "      <th></th>\n",
       "      <th>Sexo</th>\n",
       "      <th>Compras</th>\n",
       "      <th>Percentual</th>\n",
       "    </tr>\n",
       "  </thead>\n",
       "  <tbody>\n",
       "    <tr>\n",
       "      <th>1</th>\n",
       "      <td>Masculino</td>\n",
       "      <td>633</td>\n",
       "      <td>81.2%</td>\n",
       "    </tr>\n",
       "    <tr>\n",
       "      <th>0</th>\n",
       "      <td>Feminino</td>\n",
       "      <td>136</td>\n",
       "      <td>17.4%</td>\n",
       "    </tr>\n",
       "    <tr>\n",
       "      <th>2</th>\n",
       "      <td>Outro / Não Divulgado</td>\n",
       "      <td>11</td>\n",
       "      <td>1.4%</td>\n",
       "    </tr>\n",
       "  </tbody>\n",
       "</table>\n",
       "</div>"
      ],
      "text/plain": [
       "                    Sexo  Compras Percentual\n",
       "1              Masculino      633      81.2%\n",
       "0               Feminino      136      17.4%\n",
       "2  Outro / Não Divulgado       11       1.4%"
      ]
     },
     "metadata": {},
     "output_type": "display_data"
    },
    {
     "data": {
      "text/markdown": [
       "### Valor total gasto por gênero"
      ],
      "text/plain": [
       "<IPython.core.display.Markdown object>"
      ]
     },
     "metadata": {},
     "output_type": "display_data"
    },
    {
     "data": {
      "text/html": [
       "<div>\n",
       "<style scoped>\n",
       "    .dataframe tbody tr th:only-of-type {\n",
       "        vertical-align: middle;\n",
       "    }\n",
       "\n",
       "    .dataframe tbody tr th {\n",
       "        vertical-align: top;\n",
       "    }\n",
       "\n",
       "    .dataframe thead th {\n",
       "        text-align: right;\n",
       "    }\n",
       "</style>\n",
       "<table border=\"1\" class=\"dataframe\">\n",
       "  <thead>\n",
       "    <tr style=\"text-align: right;\">\n",
       "      <th></th>\n",
       "      <th>Sexo</th>\n",
       "      <th>Compras</th>\n",
       "      <th>Valor_Total</th>\n",
       "    </tr>\n",
       "  </thead>\n",
       "  <tbody>\n",
       "    <tr>\n",
       "      <th>1</th>\n",
       "      <td>Masculino</td>\n",
       "      <td>633</td>\n",
       "      <td>R$ 1,867,68</td>\n",
       "    </tr>\n",
       "    <tr>\n",
       "      <th>0</th>\n",
       "      <td>Feminino</td>\n",
       "      <td>136</td>\n",
       "      <td>R$ 382,91</td>\n",
       "    </tr>\n",
       "    <tr>\n",
       "      <th>2</th>\n",
       "      <td>Outro / Não Divulgado</td>\n",
       "      <td>11</td>\n",
       "      <td>R$ 35,74</td>\n",
       "    </tr>\n",
       "  </tbody>\n",
       "</table>\n",
       "</div>"
      ],
      "text/plain": [
       "                    Sexo  Compras  Valor_Total\n",
       "1              Masculino      633  R$ 1,867,68\n",
       "0               Feminino      136    R$ 382,91\n",
       "2  Outro / Não Divulgado       11     R$ 35,74"
      ]
     },
     "metadata": {},
     "output_type": "display_data"
    }
   ],
   "source": [
    "# Segmentação por sexo\n",
    "\n",
    "gender_purchase_quantity_df = purchase_df.groupby('Sexo').size().reset_index(name = 'Compras')\n",
    "gender_purchase_quantity_df.sort_values('Compras', ascending= False, inplace=True)\n",
    "\n",
    "proportion = gender_purchase_quantity_df['Compras']/ total_value\n",
    "\n",
    "gender_purchase_quantity_df['Percentual'] = proportion / proportion.sum() * 100\n",
    "gender_purchase_quantity_df['Percentual'] = gender_purchase_quantity_df['Percentual'].map(\"{:,.1f}%\".format)\n",
    "\n",
    "    # Calcular valor total gasto por gênero\n",
    "gender_spent_amount_df = purchase_df.groupby('Sexo').agg(\n",
    "    Compras=('Sexo', 'size'),  \n",
    "    Valor_Total=('Valor', 'sum')\n",
    ").reset_index()\n",
    "\n",
    "gender_spent_amount_df.sort_values(by = 'Valor_Total', ascending= False, inplace=True)\n",
    "formated_gender_spent_df = gender_spent_amount_df.copy()\n",
    "formated_gender_spent_df['Valor_Total'] = formated_gender_spent_df['Valor_Total'].map(convertToCurrency)\n",
    "\n",
    "display(\n",
    "    Markdown('### Compras feitas por gênero'),\n",
    "    gender_purchase_quantity_df,\n",
    "    Markdown('### Valor total gasto por gênero'),\n",
    "    formated_gender_spent_df\n",
    ")"
   ]
  },
  {
   "cell_type": "code",
   "execution_count": 167,
   "metadata": {},
   "outputs": [
    {
     "data": {
      "image/png": "[encoded data removed]",
      "text/plain": [
       "<Figure size 1000x600 with 1 Axes>"
      ]
     },
     "metadata": {},
     "output_type": "display_data"
    }
   ],
   "source": [
    "bins = range(0, max(purchase_df['Idade']) + 6, 5)\n",
    "\n",
    "# Criando o histograma\n",
    "plt.figure(figsize=(10, 6))\n",
    "plt.hist(purchase_df['Idade'], bins=bins, edgecolor='black', alpha=0.7)\n",
    "\n",
    "plt.xlabel('Idade')\n",
    "plt.ylabel('Quantidade de Compras')\n",
    "plt.title('Faixa etária dos compradores')\n",
    "plt.xticks(bins)\n",
    "plt.tight_layout()\n",
    "plt.grid(linestyle = '--', color = 'black')\n",
    "plt.show()"
   ]
  },
  {
   "cell_type": "code",
   "execution_count": 159,
   "metadata": {},
   "outputs": [
    {
     "data": {
      "image/png": "[encoded data removed]",
      "text/plain": [
       "<Figure size 1200x600 with 2 Axes>"
      ]
     },
     "metadata": {},
     "output_type": "display_data"
    }
   ],
   "source": [
    "labels = gender_purchase_quantity_df['Sexo']\n",
    "purchase_counts = gender_purchase_quantity_df['Compras']\n",
    "total_spent = gender_spent_amount_df['Valor_Total']\n",
    "\n",
    "fig, axes = plt.subplots(nrows=1, ncols=2, figsize=(12, 6)) # Figura com dois subplots lado a lado\n",
    "\n",
    "# Gráfico de pizza para compras totais por gênero\n",
    "axes[0].pie(\n",
    "    purchase_counts,\n",
    "    labels = labels,\n",
    "    autopct='%1.1f%%',\n",
    "    shadow=False,\n",
    "    startangle=90,\n",
    "    colors=['lightblue', 'lightcoral', 'lightgreen'],\n",
    "    pctdistance=0.8,\n",
    "    explode=[0, 0.05, 0]\n",
    ")\n",
    "axes[0].set_title('Compras Totais por Gênero')\n",
    "\n",
    "# Gráfico de barra para valor total gasto por gênero\n",
    "axes[1].bar(\n",
    "    labels,\n",
    "    total_spent,\n",
    "    color=['lightblue', 'lightcoral', 'lightgreen'],\n",
    ")\n",
    "axes[1].set_title('Valor Total Gasto por Gênero')\n",
    "axes[1].yaxis.grid(linestyle = '--', color = 'black')\n",
    "\n",
    "\n",
    "fig.suptitle('Análise de Compras e Gastos por Gênero', fontsize=16)\n",
    "plt.tight_layout()\n",
    "plt.savefig('Graficos&Dados/grafico_compras_gastos.png', dpi=300)\n",
    "plt.show()"
   ]
  }
 ],
 "metadata": {
  "kernelspec": {
   "display_name": "Python 3 (ipykernel)",
   "language": "python",
   "name": "python3"
  },
  "language_info": {
   "codemirror_mode": {
    "name": "ipython",
    "version": 3
   },
   "file_extension": ".py",
   "mimetype": "text/x-python",
   "name": "python",
   "nbconvert_exporter": "python",
   "pygments_lexer": "ipython3",
   "version": "3.11.0"
  }
 },
 "nbformat": 4,
 "nbformat_minor": 2
}
